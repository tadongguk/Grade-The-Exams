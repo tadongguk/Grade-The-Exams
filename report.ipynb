{
 "cells": [
  {
   "cell_type": "code",
   "execution_count": 2,
   "id": "initial_id",
   "metadata": {
    "collapsed": true,
    "ExecuteTime": {
     "end_time": "2024-05-11T01:23:28.325775Z",
     "start_time": "2024-05-11T01:23:28.074194Z"
    }
   },
   "outputs": [],
   "source": [
    "import pandas as pd\n",
    "import numpy as np\n",
    "\n"
   ]
  },
  {
   "cell_type": "code",
   "outputs": [
    {
     "name": "stdout",
     "output_type": "stream",
     "text": [
      "Successfully opened class3.txt\n"
     ]
    }
   ],
   "source": [
    "filename = input(\"Enter a class file to grade (i.e. class1 for class1.txt): \")\n",
    "\n",
    "\n",
    "# filename = \"class1.txt\"\n",
    "try:\n",
    "    file = open(filename, \"r\")\n",
    "    print(f\"Successfully opened {filename}\")\n",
    "    lines = file.readlines()\n",
    "\n",
    "except:\n",
    "    print(\"File not found.\")\n",
    "    exit()"
   ],
   "metadata": {
    "collapsed": false,
    "ExecuteTime": {
     "end_time": "2024-05-11T01:23:32.436610Z",
     "start_time": "2024-05-11T01:23:28.326773Z"
    }
   },
   "id": "515ff0df099caea7",
   "execution_count": 3
  },
  {
   "cell_type": "code",
   "outputs": [],
   "source": [
    "def check_valid(line):\n",
    "    line = line.split(',')\n",
    "    if len(line) != 26:\n",
    "        return 'invalid values'\n",
    "\n",
    "    elif line[0][0] != \"N\" or len(line[0]) != 9 or line[0][1:].isdigit() == False:\n",
    "        return 'invalid N#'\n",
    "    else:\n",
    "        return True"
   ],
   "metadata": {
    "collapsed": false,
    "ExecuteTime": {
     "end_time": "2024-05-11T01:23:32.443601Z",
     "start_time": "2024-05-11T01:23:32.437602Z"
    }
   },
   "id": "54b135cd99e1f6d9",
   "execution_count": 4
  },
  {
   "cell_type": "code",
   "outputs": [],
   "source": [
    "\n",
    "def check_answer(lines):\n",
    "    grades = []\n",
    "    answer_key = \"B,A,D,D,C,B,D,A,C,C,D,B,A,B,A,C,B,D,A,C,A,A,B,D,D\"\n",
    "    answer_key = answer_key.split(',')\n",
    "    for line in lines:\n",
    "        if check_valid(line) == True:\n",
    "            line = line.split(',')\n",
    "            #print(len(line))\n",
    "            \n",
    "            score = 0\n",
    "            for i in range(1, len(line)):\n",
    "                if line[i].rstrip('\\n') == answer_key[i - 1]:\n",
    "                    score += 4\n",
    "                elif line[i].rstrip('\\n') == \"\":\n",
    "                    score += 0\n",
    "                else:\n",
    "                    score -= 1\n",
    "            grades.append([line[0], score])\n",
    "    return grades\n"
   ],
   "metadata": {
    "collapsed": false,
    "ExecuteTime": {
     "end_time": "2024-05-11T01:23:32.471308Z",
     "start_time": "2024-05-11T01:23:32.446601Z"
    }
   },
   "id": "ec5ab9af1ab5158f",
   "execution_count": 5
  },
  {
   "cell_type": "code",
   "outputs": [
    {
     "name": "stdout",
     "output_type": "stream",
     "text": [
      "***ANALYZING***\n",
      "No errors found!\n",
      "***REPORT***\n",
      "Total valid lines of data: 100\n",
      "Total invalid lines of data: 0\n"
     ]
    }
   ],
   "source": [
    "print('***ANALYZING***')\n",
    "valid = 0\n",
    "for line in lines:\n",
    "    if check_valid(line) == True:\n",
    "        valid += 1\n",
    "    elif check_valid(line) == 'invalid values':\n",
    "        print(f\"Invalid line of data: does not contain exactly 26 values: \\n{line}\")\n",
    "    elif check_valid(line) == 'invalid N#':\n",
    "        print(f\"Invalid line of data: N# is invalid \\n{line}\")\n",
    "if valid == len(lines):\n",
    "    print(\"No errors found!\")\n",
    "print('***REPORT***')\n",
    "print(f\"Total valid lines of data: {valid}\")\n",
    "print(f\"Total invalid lines of data: {len(lines) - valid}\")\n"
   ],
   "metadata": {
    "collapsed": false,
    "ExecuteTime": {
     "end_time": "2024-05-11T01:23:32.480042Z",
     "start_time": "2024-05-11T01:23:32.472303Z"
    }
   },
   "id": "f5706cf5b43aae00",
   "execution_count": 6
  },
  {
   "cell_type": "code",
   "outputs": [
    {
     "name": "stdout",
     "output_type": "stream",
     "text": [
      "Mean score: 76.24\n",
      "Highest score: 96\n",
      "Lowest score: 56\n",
      "Range of scores: 40\n",
      "Median score: 77.0\n"
     ]
    }
   ],
   "source": [
    "\n",
    "grades = check_answer(lines)\n",
    "\n",
    "# # Creating a DataFrame from the list of tuples\n",
    "df = pd.DataFrame(grades, columns=['N#', 'Grade'])\n",
    "\n",
    "# Calculating statistical measures\n",
    "mean_score = df['Grade'].mean()\n",
    "max_score = df['Grade'].max()\n",
    "min_score = df['Grade'].min()\n",
    "range_score = max_score - min_score\n",
    "median_score = df['Grade'].median()\n",
    "\n",
    "# Printing the results\n",
    "print(f\"Mean score: {round(mean_score,2)}\")\n",
    "print(f\"Highest score: {max_score}\")\n",
    "print(f\"Lowest score: {min_score}\")\n",
    "print(f\"Range of scores: {range_score}\")\n",
    "print(f\"Median score: {median_score}\")"
   ],
   "metadata": {
    "collapsed": false,
    "ExecuteTime": {
     "end_time": "2024-05-11T01:23:32.493015Z",
     "start_time": "2024-05-11T01:23:32.481014Z"
    }
   },
   "id": "f40b5dfb7cb16b0b",
   "execution_count": 7
  },
  {
   "cell_type": "code",
   "outputs": [],
   "source": [
    "file_name = filename.split('.')[0]\n",
    "df.to_csv(f'{file_name}_grades.txt', index = False, header = False)"
   ],
   "metadata": {
    "collapsed": false,
    "ExecuteTime": {
     "end_time": "2024-05-11T01:23:32.507155Z",
     "start_time": "2024-05-11T01:23:32.496015Z"
    }
   },
   "id": "ddca57d335580f97",
   "execution_count": 8
  },
  {
   "cell_type": "code",
   "outputs": [],
   "source": [],
   "metadata": {
    "collapsed": false,
    "ExecuteTime": {
     "end_time": "2024-05-11T01:23:32.509878Z",
     "start_time": "2024-05-11T01:23:32.508152Z"
    }
   },
   "id": "4815b2b963250029",
   "execution_count": 8
  }
 ],
 "metadata": {
  "kernelspec": {
   "display_name": "Python 3",
   "language": "python",
   "name": "python3"
  },
  "language_info": {
   "codemirror_mode": {
    "name": "ipython",
    "version": 2
   },
   "file_extension": ".py",
   "mimetype": "text/x-python",
   "name": "python",
   "nbconvert_exporter": "python",
   "pygments_lexer": "ipython2",
   "version": "2.7.6"
  }
 },
 "nbformat": 4,
 "nbformat_minor": 5
}
